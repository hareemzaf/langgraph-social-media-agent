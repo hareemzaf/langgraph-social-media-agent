{
  "nbformat": 4,
  "nbformat_minor": 0,
  "metadata": {
    "colab": {
      "provenance": []
    },
    "kernelspec": {
      "name": "python3",
      "display_name": "Python 3"
    },
    "language_info": {
      "name": "python"
    }
  },
  "cells": [
    {
      "cell_type": "code",
      "execution_count": 1,
      "metadata": {
        "id": "58_gfWe_UmJv"
      },
      "outputs": [],
      "source": [
        "!pip install -Uqqq pip --progress-bar off\n",
        "!pip install -qqq langchain-groq==0.2.0 --progress-bar off\n",
        "!pip install -qqq langgraph==0.2.22 --progress-bar off"
      ]
    },
    {
      "cell_type": "code",
      "source": [
        "import sqlite3\n",
        "import textwrap\n",
        "from enum import Enum, auto\n",
        "from typing import List, Literal, Optional, TypedDict\n",
        "\n",
        "import matplotlib.pyplot as plt\n",
        "import numpy as np\n",
        "import pandas as pd\n",
        "from google.colab import userdata\n",
        "from IPython.display import Image, display\n",
        "from langchain_core.messages import HumanMessage, SystemMessage\n",
        "from langchain_groq import ChatGroq\n",
        "from langgraph.graph import END, StateGraph\n",
        "from pydantic import BaseModel, Field\n",
        "\n",
        "np.random.seed(42)\n",
        "\n",
        "MODEL = \"mistral-large-v2\"\n",
        "\n",
        "llm = ChatGroq(temperature=0, model_name=MODEL, api_key=userdata.get(\"groq_api_key\"))"
      ],
      "metadata": {
        "id": "W6o-SehOUn8p"
      },
      "execution_count": 21,
      "outputs": []
    },
    {
      "cell_type": "markdown",
      "source": [
        "# Agent Prompts"
      ],
      "metadata": {
        "id": "1Rue9M74VD4_"
      }
    },
    {
      "cell_type": "code",
      "source": [
        "EDITOR_PROMPT = \"\"\"\n",
        "Rewrite for maximum social media engagement:\n",
        "\n",
        "- Use attention-grabbing, concise language\n",
        "- Inject personality and humor\n",
        "- Optimize formatting (short paragraphs)\n",
        "- Encourage interaction (questions, calls-to-action)\n",
        "- Ensure perfect grammar and spelling\n",
        "- Rewrite from first person perspective, when talking to an audience\n",
        "\n",
        "Use only the information provided in the text. Think carefully.\n",
        "\"\"\""
      ],
      "metadata": {
        "id": "1ujR6CxQU3cA"
      },
      "execution_count": 22,
      "outputs": []
    },
    {
      "cell_type": "code",
      "source": [
        "TWITTER_PROMPT = \"\"\"\n",
        "Generate a high-engagement tweet from the given text:\n",
        "1. What problem does this solve?\n",
        "2. Focus on the main technical points/features\n",
        "3. Write a short, coherent paragraph (2-3 sentences max)\n",
        "4. Use natural, conversational language\n",
        "5. Optimize for virality: make it intriguing, relatable, or controversial\n",
        "6. Exclude emojis and hashtags\n",
        "\"\"\"\n",
        ""
      ],
      "metadata": {
        "id": "t6F6hn7IVIJ5"
      },
      "execution_count": 23,
      "outputs": []
    },
    {
      "cell_type": "code",
      "source": [
        "\n",
        "TWITTER_CRITIQUE_PROMPT = \"\"\"\n",
        "You are a Tweet Critique Agent. Your task is to analyze tweets and provide actionable feedback to make them more engaging. Focus on:\n",
        "\n",
        "1. Clarity: Is the message clear and easy to understand?\n",
        "2. Hook: Does it grab attention in the first few words?\n",
        "3. Brevity: Is it concise while maintaining impact?\n",
        "4. Call-to-action: Does it encourage interaction or sharing?\n",
        "5. Tone: Is it appropriate for the intended audience?\n",
        "6. Storytelling: Does it evoke curiosity?\n",
        "7. Remove hype: Does it promise more than it delivers?\n",
        "\n",
        "Provide 2-3 specific suggestions to improve the tweet's engagement potential.\n",
        "Do not suggest hashtags. Keep your feedback concise and actionable.\n",
        "\n",
        "Your goal is to help the writer improve their social media writing skills and increase engagement with their posts.\n",
        "\"\"\""
      ],
      "metadata": {
        "id": "-_Gb4MB-VKoU"
      },
      "execution_count": 24,
      "outputs": []
    },
    {
      "cell_type": "code",
      "source": [
        "\n",
        "LINKEDIN_PROMPT = \"\"\"\n",
        "Write a compelling LinkedIn post from the given text. Structure it as follows:\n",
        "\n",
        "1. Eye-catching headline (5-7 words)\n",
        "2. Identify a key problem or challenge\n",
        "3. Provide a bullet list of key benefits/features\n",
        "4. Highlight a clear benefit or solution\n",
        "5. Conclude with a thought-provoking question\n",
        "\n",
        "Maintain a professional, informative tone. Avoid emojis and hashtags.\n",
        "Keep the post concise (50-80 words) and relevant to the industry.\n",
        "Focus on providing valuable insights or actionable takeaways that will resonate\n",
        "with professionals in the field.\n",
        "\"\"\""
      ],
      "metadata": {
        "id": "i6ohiXsrVO7I"
      },
      "execution_count": 25,
      "outputs": []
    },
    {
      "cell_type": "code",
      "source": [
        "LINKEDIN_CRITIQUE_PROMPT = \"\"\"\n",
        "Your role is to analyze LinkedIn posts and provide actionable feedback to make them more engaging.\n",
        "Focus on the following aspects:\n",
        "\n",
        "1. Hook: Evaluate the opening line's ability to grab attention.\n",
        "2. Structure: Assess the post's flow and readability.\n",
        "3. Content value: Determine if the post provides useful information or insights.\n",
        "4. Call-to-action: Check if there's a clear next step for readers.\n",
        "5. Language: Suggest improvements in tone, style, and word choice.\n",
        "6. Visual elements: Recommend additions or changes to images, videos, or formatting.\n",
        "\n",
        "For each aspect, provide:\n",
        "- A brief assessment (1-2 sentences)\n",
        "- A specific suggestion for improvement\n",
        "- A concise example of the suggested change\n",
        "\n",
        "Conclude with an overall recommendation for the most impactful change the author can make to increase engagement.\n",
        "Your goal is to help the writer improve their social media writing skills and increase engagement with their posts.\n",
        "\"\"\"\n",
        ""
      ],
      "metadata": {
        "id": "tMPDDUE-VTRl"
      },
      "execution_count": 26,
      "outputs": []
    },
    {
      "cell_type": "markdown",
      "source": [
        "# Graph"
      ],
      "metadata": {
        "id": "0g9bhz3yVYkw"
      }
    },
    {
      "cell_type": "markdown",
      "source": [
        "State"
      ],
      "metadata": {
        "id": "cF9mnH6JVdSA"
      }
    },
    {
      "cell_type": "code",
      "source": [
        "class Post(BaseModel):\n",
        "    \"\"\"A post written in different versions\"\"\"\n",
        "\n",
        "    drafts: List[str]\n",
        "    feedback: Optional[str]\n",
        "\n",
        "\n",
        "class AppState(TypedDict):\n",
        "    user_text: str\n",
        "    target_audience: str\n",
        "    edit_text: str\n",
        "    tweet: Post\n",
        "    linkedin_post: Post\n",
        "    n_drafts: int"
      ],
      "metadata": {
        "id": "9P-A7L1pVWIl"
      },
      "execution_count": 27,
      "outputs": []
    },
    {
      "cell_type": "markdown",
      "source": [
        "nodes\n"
      ],
      "metadata": {
        "id": "RtZWkMCUVfyG"
      }
    },
    {
      "cell_type": "code",
      "source": [
        "def editor_node(state: AppState):\n",
        "    prompt = f\"\"\"\n",
        "text:\n",
        "```\n",
        "{state[\"user_text\"]}\n",
        "```\n",
        "\"\"\".strip()\n",
        "    response = llm.invoke([SystemMessage(EDITOR_PROMPT), HumanMessage(prompt)])\n",
        "    return {\"edit_text\": response.content}"
      ],
      "metadata": {
        "id": "mPTL0MSjVfZj"
      },
      "execution_count": 28,
      "outputs": []
    },
    {
      "cell_type": "code",
      "source": [
        "def tweet_writer_node(state: AppState):\n",
        "\n",
        "    post = state[\"tweet\"]\n",
        "\n",
        "    feedback_prompt = (\n",
        "        \"\"\n",
        "        if not post.feedback\n",
        "        else f\"\"\"\n",
        "Tweet:\n",
        "```\n",
        "{post.drafts[-1]}\n",
        "```\n",
        "\n",
        "Use the feedback to improve it:\n",
        "```\n",
        "{post.feedback}\n",
        "```\n",
        "\"\"\".strip()\n",
        "    )\n",
        "\n",
        "    prompt = f\"\"\"\n",
        "text:\n",
        "```\n",
        "{state[\"edit_text\"]}\n",
        "```\n",
        "\n",
        "{feedback_prompt}\n",
        "\n",
        "Target audience: {state[\"target_audience\"]}\n",
        "\n",
        "Write only the text for the post\n",
        "\"\"\".strip()\n",
        "\n",
        "    response = llm.invoke([SystemMessage(TWITTER_PROMPT), HumanMessage(prompt)])\n",
        "    post.drafts.append(response.content)\n",
        "    return {\"tweet\": post}\n",
        ""
      ],
      "metadata": {
        "id": "z4pXXK4KVcaQ"
      },
      "execution_count": 29,
      "outputs": []
    },
    {
      "cell_type": "code",
      "source": [
        "def linkedin_writer_node(state: AppState):\n",
        "    post = state[\"linkedin_post\"]\n",
        "\n",
        "    feedback_prompt = (\n",
        "        \"\"\n",
        "        if not post.feedback\n",
        "        else f\"\"\"\n",
        "LinkedIn post:\n",
        "```\n",
        "{post.drafts[-1]}\n",
        "```\n",
        "\n",
        "Use the feedback to improve it:\n",
        "```\n",
        "{post.feedback}\n",
        "```\n",
        "\"\"\".strip()\n",
        "    )\n",
        "\n",
        "    prompt = f\"\"\"\n",
        "text:\n",
        "```\n",
        "{state[\"edit_text\"]}\n",
        "```\n",
        "\n",
        "{feedback_prompt}\n",
        "\n",
        "Target audience: {state[\"target_audience\"]}\n",
        "\n",
        "Write only the text for the post\n",
        "\"\"\".strip()\n",
        "\n",
        "    response = llm.invoke([SystemMessage(LINKEDIN_PROMPT), HumanMessage(prompt)])\n",
        "    post.drafts.append(response.content)\n",
        "    return {\"linkedin_post\": post}\n",
        "\n"
      ],
      "metadata": {
        "id": "Fo3jWO0hVpyg"
      },
      "execution_count": 30,
      "outputs": []
    },
    {
      "cell_type": "code",
      "source": [
        "def critique_tweet_node(state: AppState):\n",
        "    post = state[\"tweet\"]\n",
        "\n",
        "    prompt = f\"\"\"\n",
        "Full post:\n",
        "```\n",
        "{state[\"edit_text\"]}\n",
        "```\n",
        "\n",
        "Suggested tweet (critique this):\n",
        "```\n",
        "{post.drafts[-1]}\n",
        "```\n",
        "\n",
        "Target audience: {state[\"target_audience\"]}\n",
        "\"\"\".strip()\n",
        "\n",
        "    response = llm.invoke(\n",
        "        [SystemMessage(TWITTER_CRITIQUE_PROMPT), HumanMessage(prompt)]\n",
        "    )\n",
        "    post.feedback = response.content\n",
        "    return {\"tweet\": post}"
      ],
      "metadata": {
        "id": "FI7zFSxEVt9f"
      },
      "execution_count": 31,
      "outputs": []
    },
    {
      "cell_type": "code",
      "source": [
        "def critique_linkedin_node(state: AppState):\n",
        "    post = state[\"linkedin_post\"]\n",
        "\n",
        "    prompt = f\"\"\"\n",
        "Full post:\n",
        "```\n",
        "{state[\"edit_text\"]}\n",
        "```\n",
        "\n",
        "Suggested LinkedIn post (critique this):\n",
        "```\n",
        "{post.drafts[-1]}\n",
        "```\n",
        "\n",
        "Target audience: {state[\"target_audience\"]}\n",
        "\"\"\".strip()\n",
        "\n",
        "    response = llm.invoke(\n",
        "        [SystemMessage(LINKEDIN_CRITIQUE_PROMPT), HumanMessage(prompt)]\n",
        "    )\n",
        "    post.feedback = response.content\n",
        "    return {\"linkedin_post\": post}\n",
        ""
      ],
      "metadata": {
        "id": "3Hj_QTosVw4z"
      },
      "execution_count": 32,
      "outputs": []
    },
    {
      "cell_type": "code",
      "source": [
        "def supervisor_node(state: AppState):\n",
        "    return state"
      ],
      "metadata": {
        "id": "od3UW_SAV0g5"
      },
      "execution_count": 33,
      "outputs": []
    },
    {
      "cell_type": "markdown",
      "source": [
        "Edges"
      ],
      "metadata": {
        "id": "nmQscoBhV5B-"
      }
    },
    {
      "cell_type": "code",
      "source": [
        "\n",
        "def should_rewrite(\n",
        "    state: AppState,\n",
        ") -> Literal[[\"linkedin_critique\", \"tweet_critique\"], END]:\n",
        "    tweet = state[\"tweet\"]\n",
        "    linkedin_post = state[\"linkedin_post\"]\n",
        "    n_drafts = state[\"n_drafts\"]\n",
        "    if len(tweet.drafts) >= n_drafts and len(linkedin_post.drafts) >= n_drafts:\n",
        "        return END\n",
        "\n",
        "    return [\"linkedin_critique\", \"tweet_critique\"]"
      ],
      "metadata": {
        "id": "Aydxz1yJV2n2"
      },
      "execution_count": 34,
      "outputs": []
    },
    {
      "cell_type": "markdown",
      "source": [
        "# Build a Graph"
      ],
      "metadata": {
        "id": "YSP_ZvoMWRye"
      }
    },
    {
      "cell_type": "code",
      "source": [
        "graph = StateGraph(AppState)\n",
        "\n",
        "graph.add_node(\"editor\", editor_node)\n",
        "graph.add_node(\"tweet_writer\", tweet_writer_node)\n",
        "graph.add_node(\"tweet_critique\", critique_tweet_node)\n",
        "graph.add_node(\"linkedin_writer\", linkedin_writer_node)\n",
        "graph.add_node(\"linkedin_critique\", critique_linkedin_node)\n",
        "graph.add_node(\"supervisor\", supervisor_node)\n",
        "\n",
        "graph.add_edge(\"editor\", \"tweet_writer\")\n",
        "graph.add_edge(\"editor\", \"linkedin_writer\")\n",
        "\n",
        "graph.add_edge(\"tweet_writer\", \"supervisor\")\n",
        "graph.add_edge(\"linkedin_writer\", \"supervisor\")\n",
        "graph.add_conditional_edges(\"supervisor\", should_rewrite)\n",
        "\n",
        "graph.add_edge(\"tweet_critique\", \"tweet_writer\")\n",
        "graph.add_edge(\"linkedin_critique\", \"linkedin_writer\")\n",
        "\n",
        "graph.set_entry_point(\"editor\")\n",
        "\n",
        "app = graph.compile()"
      ],
      "metadata": {
        "id": "hpd6X4FJV81M"
      },
      "execution_count": 35,
      "outputs": []
    },
    {
      "cell_type": "code",
      "source": [
        "\n",
        "display(Image(app.get_graph().draw_mermaid_png()))"
      ],
      "metadata": {
        "colab": {
          "base_uri": "https://localhost:8080/",
          "height": 563
        },
        "id": "NYTOZp2DWWP7",
        "outputId": "44ba17b7-b27f-423e-a3fd-5376e2ec1c96"
      },
      "execution_count": 36,
      "outputs": [
        {
          "output_type": "display_data",
          "data": {
            "image/png": "[encoded data removed]",
            "text/plain": [
              "<IPython.core.display.Image object>"
            ]
          },
          "metadata": {}
        }
      ]
    },
    {
      "cell_type": "code",
      "source": [],
      "metadata": {
        "id": "T31r9kB_WgYD"
      },
      "execution_count": null,
      "outputs": []
    }
  ]
}